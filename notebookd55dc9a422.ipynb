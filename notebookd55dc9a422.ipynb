{
 "cells": [
  {
   "cell_type": "code",
   "execution_count": 1,
   "id": "d2f5342b",
   "metadata": {
    "_cell_guid": "efaaf03f-9eaf-4b49-bfe4-26be7997196a",
    "_uuid": "c91801c0-93d1-4b11-a0bc-a6dc1d8cd88f",
    "collapsed": false,
    "execution": {
     "iopub.execute_input": "2023-02-08T09:31:46.002668Z",
     "iopub.status.busy": "2023-02-08T09:31:46.002159Z",
     "iopub.status.idle": "2023-02-08T09:31:47.342078Z",
     "shell.execute_reply": "2023-02-08T09:31:47.340962Z"
    },
    "jupyter": {
     "outputs_hidden": false
    },
    "papermill": {
     "duration": 1.348404,
     "end_time": "2023-02-08T09:31:47.345032",
     "exception": false,
     "start_time": "2023-02-08T09:31:45.996628",
     "status": "completed"
    },
    "tags": []
   },
   "outputs": [],
   "source": [
    "import pandas as pd\n",
    "import numpy as np\n",
    "import matplotlib.pyplot as plt\n",
    "from sklearn.cluster import KMeans\n",
    "import seaborn as sns\n",
    "import csv"
   ]
  },
  {
   "cell_type": "markdown",
   "id": "d22b002b",
   "metadata": {
    "_cell_guid": "e4d5bb64-1f70-4cfd-97e2-71b714d83612",
    "_uuid": "0e466b42-6d64-4ef0-8cfb-21c5e0f98b54",
    "papermill": {
     "duration": 0.001549,
     "end_time": "2023-02-08T09:31:47.348636",
     "exception": false,
     "start_time": "2023-02-08T09:31:47.347087",
     "status": "completed"
    },
    "tags": []
   },
   "source": []
  },
  {
   "cell_type": "code",
   "execution_count": 2,
   "id": "fb065096",
   "metadata": {
    "_cell_guid": "9cb9f7e6-3525-41d6-a308-f2bfab612a44",
    "_uuid": "cc6101d7-ee5b-4c7b-8562-09f27ec5acf8",
    "collapsed": false,
    "execution": {
     "iopub.execute_input": "2023-02-08T09:31:47.353292Z",
     "iopub.status.busy": "2023-02-08T09:31:47.352901Z",
     "iopub.status.idle": "2023-02-08T09:31:47.383496Z",
     "shell.execute_reply": "2023-02-08T09:31:47.382458Z"
    },
    "jupyter": {
     "outputs_hidden": false
    },
    "papermill": {
     "duration": 0.036346,
     "end_time": "2023-02-08T09:31:47.386634",
     "exception": false,
     "start_time": "2023-02-08T09:31:47.350288",
     "status": "completed"
    },
    "tags": []
   },
   "outputs": [
    {
     "data": {
      "text/html": [
       "<div>\n",
       "<style scoped>\n",
       "    .dataframe tbody tr th:only-of-type {\n",
       "        vertical-align: middle;\n",
       "    }\n",
       "\n",
       "    .dataframe tbody tr th {\n",
       "        vertical-align: top;\n",
       "    }\n",
       "\n",
       "    .dataframe thead th {\n",
       "        text-align: right;\n",
       "    }\n",
       "</style>\n",
       "<table border=\"1\" class=\"dataframe\">\n",
       "  <thead>\n",
       "    <tr style=\"text-align: right;\">\n",
       "      <th></th>\n",
       "      <th>Team</th>\n",
       "      <th>League</th>\n",
       "      <th>Division</th>\n",
       "      <th>Lat</th>\n",
       "      <th>Long</th>\n",
       "    </tr>\n",
       "  </thead>\n",
       "  <tbody>\n",
       "    <tr>\n",
       "      <th>0</th>\n",
       "      <td>Dallas Mavericks</td>\n",
       "      <td>NBA</td>\n",
       "      <td>West</td>\n",
       "      <td>32.790556</td>\n",
       "      <td>-96.810278</td>\n",
       "    </tr>\n",
       "    <tr>\n",
       "      <th>1</th>\n",
       "      <td>Orlando Magic</td>\n",
       "      <td>NBA</td>\n",
       "      <td>East</td>\n",
       "      <td>28.539167</td>\n",
       "      <td>-81.383611</td>\n",
       "    </tr>\n",
       "  </tbody>\n",
       "</table>\n",
       "</div>"
      ],
      "text/plain": [
       "               Team League Division        Lat       Long\n",
       "0  Dallas Mavericks    NBA     West  32.790556 -96.810278\n",
       "1     Orlando Magic    NBA     East  28.539167 -81.383611"
      ]
     },
     "execution_count": 2,
     "metadata": {},
     "output_type": "execute_result"
    }
   ],
   "source": [
    "df = pd.read_csv('/kaggle/input/sports-stadium-locations/stadiums.csv')\n",
    "df.head(2)"
   ]
  }
 ],
 "metadata": {
  "kernelspec": {
   "display_name": "Python 3",
   "language": "python",
   "name": "python3"
  },
  "language_info": {
   "codemirror_mode": {
    "name": "ipython",
    "version": 3
   },
   "file_extension": ".py",
   "mimetype": "text/x-python",
   "name": "python",
   "nbconvert_exporter": "python",
   "pygments_lexer": "ipython3",
   "version": "3.7.12"
  },
  "papermill": {
   "default_parameters": {},
   "duration": 10.295027,
   "end_time": "2023-02-08T09:31:48.109688",
   "environment_variables": {},
   "exception": null,
   "input_path": "__notebook__.ipynb",
   "output_path": "__notebook__.ipynb",
   "parameters": {},
   "start_time": "2023-02-08T09:31:37.814661",
   "version": "2.3.4"
  }
 },
 "nbformat": 4,
 "nbformat_minor": 5
}
